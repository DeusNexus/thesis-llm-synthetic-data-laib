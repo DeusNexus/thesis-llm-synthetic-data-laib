{
 "cells": [
  {
   "cell_type": "code",
   "execution_count": 1,
   "metadata": {},
   "outputs": [],
   "source": [
    "import pandas as pd\n",
    "\n",
    "# SENSITIVY, POWER, EFFECT SIZE"
   ]
  },
  {
   "cell_type": "code",
   "execution_count": 2,
   "metadata": {},
   "outputs": [],
   "source": [
    "d = pd.read_excel('laser_ion_beam_data.xlsx')"
   ]
  },
  {
   "cell_type": "code",
   "execution_count": 3,
   "metadata": {},
   "outputs": [],
   "source": [
    "d = d.iloc[:,:8]\n",
    "d.columns = ['intensity','energy','pulse_width','cutoff_energy','power','spot_size','target_material','target_thickness']"
   ]
  },
  {
   "cell_type": "code",
   "execution_count": 4,
   "metadata": {},
   "outputs": [
    {
     "data": {
      "text/plain": [
       "target_material\n",
       "Plastik           960\n",
       "Gold (Au)          62\n",
       "Polystyrol         38\n",
       "Aluminium (Al)     11\n",
       "Polypropylen        9\n",
       "Kupfer (Cu)         5\n",
       "CH                  4\n",
       "Titan (Ti)          3\n",
       "CVD                 1\n",
       "Name: count, dtype: int64"
      ]
     },
     "execution_count": 4,
     "metadata": {},
     "output_type": "execute_result"
    }
   ],
   "source": [
    "d['target_material'].value_counts()"
   ]
  },
  {
   "cell_type": "code",
   "execution_count": 5,
   "metadata": {},
   "outputs": [
    {
     "data": {
      "text/html": [
       "<div>\n",
       "<style scoped>\n",
       "    .dataframe tbody tr th:only-of-type {\n",
       "        vertical-align: middle;\n",
       "    }\n",
       "\n",
       "    .dataframe tbody tr th {\n",
       "        vertical-align: top;\n",
       "    }\n",
       "\n",
       "    .dataframe thead th {\n",
       "        text-align: right;\n",
       "    }\n",
       "</style>\n",
       "<table border=\"1\" class=\"dataframe\">\n",
       "  <thead>\n",
       "    <tr style=\"text-align: right;\">\n",
       "      <th></th>\n",
       "      <th>intensity</th>\n",
       "      <th>energy</th>\n",
       "      <th>pulse_width</th>\n",
       "      <th>cutoff_energy</th>\n",
       "      <th>power</th>\n",
       "      <th>spot_size</th>\n",
       "      <th>target_material</th>\n",
       "      <th>target_thickness</th>\n",
       "    </tr>\n",
       "  </thead>\n",
       "  <tbody>\n",
       "    <tr>\n",
       "      <th>0</th>\n",
       "      <td>2.384369e+21</td>\n",
       "      <td>106.191</td>\n",
       "      <td>500</td>\n",
       "      <td>20.2</td>\n",
       "      <td>2.123820e+14</td>\n",
       "      <td>2.804465</td>\n",
       "      <td>Gold (Au)</td>\n",
       "      <td>10.0</td>\n",
       "    </tr>\n",
       "    <tr>\n",
       "      <th>1</th>\n",
       "      <td>2.006771e+21</td>\n",
       "      <td>126.765</td>\n",
       "      <td>500</td>\n",
       "      <td>29.8</td>\n",
       "      <td>2.535300e+14</td>\n",
       "      <td>3.339978</td>\n",
       "      <td>Gold (Au)</td>\n",
       "      <td>10.0</td>\n",
       "    </tr>\n",
       "    <tr>\n",
       "      <th>2</th>\n",
       "      <td>3.050720e+21</td>\n",
       "      <td>122.634</td>\n",
       "      <td>500</td>\n",
       "      <td>30.1</td>\n",
       "      <td>2.452680e+14</td>\n",
       "      <td>2.664386</td>\n",
       "      <td>Gold (Au)</td>\n",
       "      <td>10.0</td>\n",
       "    </tr>\n",
       "    <tr>\n",
       "      <th>3</th>\n",
       "      <td>2.833589e+21</td>\n",
       "      <td>143.694</td>\n",
       "      <td>500</td>\n",
       "      <td>30.1</td>\n",
       "      <td>2.873880e+14</td>\n",
       "      <td>2.992566</td>\n",
       "      <td>Gold (Au)</td>\n",
       "      <td>10.0</td>\n",
       "    </tr>\n",
       "    <tr>\n",
       "      <th>4</th>\n",
       "      <td>4.507079e+21</td>\n",
       "      <td>148.068</td>\n",
       "      <td>500</td>\n",
       "      <td>30.6</td>\n",
       "      <td>2.961360e+14</td>\n",
       "      <td>2.408662</td>\n",
       "      <td>Gold (Au)</td>\n",
       "      <td>10.0</td>\n",
       "    </tr>\n",
       "  </tbody>\n",
       "</table>\n",
       "</div>"
      ],
      "text/plain": [
       "      intensity   energy  pulse_width  cutoff_energy         power  spot_size  \\\n",
       "0  2.384369e+21  106.191          500           20.2  2.123820e+14   2.804465   \n",
       "1  2.006771e+21  126.765          500           29.8  2.535300e+14   3.339978   \n",
       "2  3.050720e+21  122.634          500           30.1  2.452680e+14   2.664386   \n",
       "3  2.833589e+21  143.694          500           30.1  2.873880e+14   2.992566   \n",
       "4  4.507079e+21  148.068          500           30.6  2.961360e+14   2.408662   \n",
       "\n",
       "  target_material  target_thickness  \n",
       "0       Gold (Au)              10.0  \n",
       "1       Gold (Au)              10.0  \n",
       "2       Gold (Au)              10.0  \n",
       "3       Gold (Au)              10.0  \n",
       "4       Gold (Au)              10.0  "
      ]
     },
     "execution_count": 5,
     "metadata": {},
     "output_type": "execute_result"
    }
   ],
   "source": [
    "d.head()"
   ]
  },
  {
   "cell_type": "code",
   "execution_count": 6,
   "metadata": {},
   "outputs": [
    {
     "name": "stdout",
     "output_type": "stream",
     "text": [
      "      intensity     energy  pulse_width  cutoff_energy         power  \\\n",
      "0  5.085224e+20  24.271082   320.405306       9.654392  6.945573e+13   \n",
      "1  5.292195e+20  26.287693   524.880146       9.145334  7.175072e+13   \n",
      "2  5.052561e+20  20.689879   304.831656       8.499039  6.651203e+13   \n",
      "3  4.938844e+20  31.353336   453.065874       8.760339  6.390486e+13   \n",
      "4  5.038760e+20  17.714497   395.684355       8.479597  6.308228e+13   \n",
      "\n",
      "   spot_size  target_thickness  \n",
      "0   4.215656          1.419333  \n",
      "1   4.490784          1.761569  \n",
      "2   4.323528          1.091221  \n",
      "3   4.379986          1.306766  \n",
      "4   3.919990          1.150332  \n",
      "\n",
      "Overall Mean:\n",
      " intensity           5.039375e+20\n",
      "energy              2.381535e+01\n",
      "pulse_width         4.188921e+02\n",
      "cutoff_energy       8.777404e+00\n",
      "power               6.602274e+13\n",
      "spot_size           4.154340e+00\n",
      "target_thickness    1.317476e+00\n",
      "dtype: float64\n",
      "\n",
      "Overall Standard Deviation:\n",
      " intensity           1.865486e+19\n",
      "energy              3.909045e+00\n",
      "pulse_width         9.548591e+01\n",
      "cutoff_energy       3.853592e-01\n",
      "power               2.397035e+12\n",
      "spot_size           2.070454e-01\n",
      "target_thickness    1.580192e-01\n",
      "dtype: float64\n"
     ]
    }
   ],
   "source": [
    "# Number of bootstrap samples\n",
    "n_bootstrap_samples = 1000\n",
    "\n",
    "# List to store bootstrap samples statistics\n",
    "bootstrap_samples_means = []\n",
    "\n",
    "# Generating bootstrap samples\n",
    "for _ in range(n_bootstrap_samples):\n",
    "    # Resample the DataFrame with replacement\n",
    "    bootstrap_sample = d.sample(n=len(d), replace=True)\n",
    "    # Compute the mean of each column in the bootstrap sample\n",
    "    sample_means = bootstrap_sample.mean(numeric_only=True)\n",
    "    bootstrap_samples_means.append(sample_means)\n",
    "\n",
    "# Convert list to DataFrame\n",
    "bootstrap_means_df = pd.DataFrame(bootstrap_samples_means)\n",
    "\n",
    "# Display the first few rows of the bootstrap means DataFrame\n",
    "print(bootstrap_means_df.head())\n",
    "\n",
    "# Compute the overall mean and standard deviation for each column from the bootstrap samples\n",
    "overall_mean = bootstrap_means_df.mean()\n",
    "overall_std = bootstrap_means_df.std()\n",
    "\n",
    "print(\"\\nOverall Mean:\\n\", overall_mean)\n",
    "print(\"\\nOverall Standard Deviation:\\n\", overall_std)"
   ]
  },
  {
   "cell_type": "code",
   "execution_count": 10,
   "metadata": {},
   "outputs": [],
   "source": [
    "d = d[d['target_material'] == 'Plastik']\n",
    "d_numeric = d.drop(columns='target_material')"
   ]
  },
  {
   "cell_type": "code",
   "execution_count": 11,
   "metadata": {},
   "outputs": [
    {
     "name": "stderr",
     "output_type": "stream",
     "text": [
      "/home/fox/Desktop/ThesisLLM/coding/bootstrap/.venv/lib/python3.12/site-packages/scipy/stats/_axis_nan_policy.py:531: RuntimeWarning: Precision loss occurred in moment calculation due to catastrophic cancellation. This occurs when the data are nearly identical. Results may be unreliable.\n",
      "  res = hypotest_fun_out(*samples, **kwds)\n"
     ]
    },
    {
     "name": "stdout",
     "output_type": "stream",
     "text": [
      "Power: 0.14285714285714285\n",
      "Mean Effect Size: [-9.05049676e-05 -2.03031005e-05  9.15726351e-05  3.84599310e-05\n",
      " -9.05049676e-05  0.00000000e+00  9.04408846e-05]\n",
      "Standard Deviation of Effect Sizes: [0.03219544 0.03228765 0.03221505 0.03234659 0.03219544 0.\n",
      " 0.03220727]\n",
      "Sensitivity Analysis Results:\n",
      "Bootstrap Samples: 10000\n",
      "  Mean Effect Size: [ 3.04794031e-04  6.18917058e-05 -2.43469945e-04 -2.64703306e-04\n",
      "  3.04794031e-04  0.00000000e+00 -5.54298395e-04]\n",
      "  Standard Deviation of Effect Sizes: [0.03207581 0.03194095 0.03221918 0.0324592  0.03207581 0.\n",
      " 0.03254167]\n",
      "Bootstrap Samples: 50000\n",
      "  Mean Effect Size: [-2.79880754e-05  1.28637969e-04  1.31145857e-07 -1.17342793e-05\n",
      " -2.79880754e-05  0.00000000e+00  2.48086830e-04]\n",
      "  Standard Deviation of Effect Sizes: [0.03230511 0.03229768 0.03236063 0.03224677 0.03230511 0.\n",
      " 0.03238289]\n",
      "Bootstrap Samples: 100000\n",
      "  Mean Effect Size: [ 1.06814454e-04  2.24545719e-04 -1.06781844e-04 -7.19673315e-05\n",
      "  1.06814454e-04  0.00000000e+00 -6.70906809e-05]\n",
      "  Standard Deviation of Effect Sizes: [0.03231147 0.03225153 0.03232356 0.03224318 0.03231147 0.\n",
      " 0.03227345]\n",
      "Bootstrap Samples: 200000\n",
      "  Mean Effect Size: [-9.05049676e-05 -2.03031005e-05  9.15726351e-05  3.84599310e-05\n",
      " -9.05049676e-05  0.00000000e+00  9.04408846e-05]\n",
      "  Standard Deviation of Effect Sizes: [0.03219544 0.03228765 0.03221505 0.03234659 0.03219544 0.\n",
      " 0.03220727]\n"
     ]
    }
   ],
   "source": [
    "import numpy as np\n",
    "from sklearn.utils import resample\n",
    "from scipy import stats\n",
    "\n",
    "# Assuming d_numeric is your multivariate data with shape (n_samples, n_features)\n",
    "n_bootstrap_samples = 200000  # Example of a high number of bootstrap samples\n",
    "bootstrap_samples = []\n",
    "\n",
    "# Generate bootstrap samples\n",
    "for _ in range(n_bootstrap_samples):\n",
    "    sample = resample(d_numeric, replace=True)\n",
    "    bootstrap_samples.append(sample)\n",
    "\n",
    "# Calculate mean for each bootstrap sample\n",
    "bootstrap_means = np.array([np.mean(sample, axis=0) for sample in bootstrap_samples])\n",
    "\n",
    "# Calculate the null hypothesis value (mean of the original dataset)\n",
    "null_hypothesis_value = np.mean(d_numeric, axis=0).values\n",
    "alpha = 0.05\n",
    "p_values = []\n",
    "\n",
    "# Perform a t-test for each feature independently\n",
    "for feature_idx in range(bootstrap_means.shape[1]):\n",
    "    sample_means_feature = bootstrap_means[:, feature_idx]\n",
    "    t_stat, p_value = stats.ttest_1samp(sample_means_feature, null_hypothesis_value[feature_idx])\n",
    "    p_values.append(p_value)\n",
    "\n",
    "p_values = np.array(p_values)\n",
    "power = np.mean(p_values < alpha)\n",
    "\n",
    "# Calculate effect sizes (Cohen's d) for each feature\n",
    "std_dev = np.std(d_numeric, axis=0, ddof=1).values\n",
    "effect_sizes = (bootstrap_means - null_hypothesis_value) / std_dev\n",
    "\n",
    "# Summary statistics of effect sizes\n",
    "mean_effect_size = np.mean(effect_sizes, axis=0)\n",
    "std_effect_size = np.std(effect_sizes, axis=0)\n",
    "\n",
    "# Sensitivity analysis by varying number of bootstrap samples\n",
    "sensitivity_results = {}\n",
    "for n_samples in [10000, 50000, 100000, 200000]:\n",
    "    bootstrap_samples = []\n",
    "    for _ in range(n_samples):\n",
    "        sample = resample(d_numeric, replace=True)\n",
    "        bootstrap_samples.append(sample)\n",
    "    bootstrap_means = np.array([np.mean(sample, axis=0) for sample in bootstrap_samples])\n",
    "    effect_sizes = (bootstrap_means - null_hypothesis_value) / std_dev\n",
    "    mean_effect_size = np.mean(effect_sizes, axis=0)\n",
    "    std_effect_size = np.std(effect_sizes, axis=0)\n",
    "    sensitivity_results[n_samples] = (mean_effect_size, std_effect_size)\n",
    "\n",
    "# Output results\n",
    "print(f'Power: {power}')\n",
    "print(f'Mean Effect Size: {mean_effect_size}')\n",
    "print(f'Standard Deviation of Effect Sizes: {std_effect_size}')\n",
    "print('Sensitivity Analysis Results:')\n",
    "for n_samples, (mean_eff, std_eff) in sensitivity_results.items():\n",
    "    print(f'Bootstrap Samples: {n_samples}')\n",
    "    print(f'  Mean Effect Size: {mean_eff}')\n",
    "    print(f'  Standard Deviation of Effect Sizes: {std_eff}')\n"
   ]
  },
  {
   "cell_type": "code",
   "execution_count": null,
   "metadata": {},
   "outputs": [],
   "source": []
  }
 ],
 "metadata": {
  "kernelspec": {
   "display_name": "Python 3",
   "language": "python",
   "name": "python3"
  },
  "language_info": {
   "codemirror_mode": {
    "name": "ipython",
    "version": 3
   },
   "file_extension": ".py",
   "mimetype": "text/x-python",
   "name": "python",
   "nbconvert_exporter": "python",
   "pygments_lexer": "ipython3",
   "version": "3.12.3"
  }
 },
 "nbformat": 4,
 "nbformat_minor": 2
}
